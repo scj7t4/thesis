{
 "cells": [
  {
   "cell_type": "code",
   "execution_count": 45,
   "metadata": {
    "collapsed": true
   },
   "outputs": [],
   "source": [
    "import numpy as np\n",
    "import matplotlib.pyplot as plt\n",
    "%matplotlib inline\n",
    "import matplotlib as mpl\n",
    "mpl.rcParams['text.usetex'] = True\n",
    "mpl.rcParams['font.family'] = 'serif'"
   ]
  },
  {
   "cell_type": "code",
   "execution_count": 46,
   "metadata": {
    "collapsed": true
   },
   "outputs": [],
   "source": [
    "dataset = np.array([\n",
    "    [0, 0, 86.14452559],\n",
    "    [4, 0.5, 66.56132727],\n",
    "    [8, 1, 66.36999201],\n",
    "    [10, 1.25, 67.69242694],\n",
    "    [12, 1.5, 66.00498134],\n",
    "    [14, 1.75, 79.65616325],\n",
    "    [16, 2, 86.49675456],\n",
    "    [18, 2.25, 95.00878936],\n",
    "    [20, 2.5, 119.2274724],\n",
    "])"
   ]
  },
  {
   "cell_type": "code",
   "execution_count": 47,
   "metadata": {
    "collapsed": true
   },
   "outputs": [],
   "source": [
    "def rsquared(y,yhat):\n",
    "    def sumsquares(inp):\n",
    "        avg = np.average(inp)\n",
    "        sub = inp - avg\n",
    "        sub = np.power(sub,2)\n",
    "        return np.sum(sub)\n",
    "    sst = sumsquares(y)\n",
    "    ssreg = sumsquares(yhat)\n",
    "    return ssreg/sst"
   ]
  },
  {
   "cell_type": "code",
   "execution_count": 55,
   "metadata": {
    "collapsed": false
   },
   "outputs": [
    {
     "name": "stdout",
     "output_type": "stream",
     "text": [
      "[ 22.70295404 -44.73871912  85.72006847]\n"
     ]
    }
   ],
   "source": [
    "curve = np.polyfit(dataset[:,1], dataset[:,2], 2)\n",
    "bounds = (min(dataset[:,1])-0.5, max(dataset[:,1])+0.5)\n",
    "xc = np.linspace(min(bounds), max(bounds), 100)\n",
    "fit = np.poly1d(curve)\n",
    "print curve"
   ]
  },
  {
   "cell_type": "code",
   "execution_count": 49,
   "metadata": {
    "collapsed": false
   },
   "outputs": [],
   "source": [
    "rsq = rsquared(dataset[:,2], fit(dataset[:,1]))"
   ]
  },
  {
   "cell_type": "code",
   "execution_count": 54,
   "metadata": {
    "collapsed": false
   },
   "outputs": [
    {
     "data": {
      "image/png": "[encoded data removed]",
      "text/plain": [
       "<matplotlib.figure.Figure at 0x7fa73b652390>"
      ]
     },
     "metadata": {},
     "output_type": "display_data"
    }
   ],
   "source": [
    "hndls = []\n",
    "h, = plt.plot(dataset[:,1], dataset[:,2], linestyle='', marker='o')\n",
    "hndls.append(h)\n",
    "h, = plt.plot(xc, fit(xc))\n",
    "hndls.append(h)\n",
    "extra = plt.Rectangle((0, 0), 1, 1, fc=\"w\", fill=False, edgecolor='none', linewidth=0)\n",
    "hndls.append(extra)\n",
    "\n",
    "plt.xlim(min(bounds), max(bounds))\n",
    "plt.title(\"Maximum Average Queue Size vs. Traffic Level\")\n",
    "plt.xlabel(\"Traffic (Mbps)\")\n",
    "plt.ylabel(\"Maximum Average Queue Size (Packets)\")\n",
    "plt.legend(hndls,(\"Observed Value\", \"Polynomial Estimation\", r\"$R^2={}$\".format(rsq)))\n",
    "plt.savefig(\"max-average-queue.pdf\")"
   ]
  },
  {
   "cell_type": "code",
   "execution_count": 65,
   "metadata": {
    "collapsed": true
   },
   "outputs": [],
   "source": [
    "deltat = 1.0\n",
    "dequeuerate = 713.08\n",
    "initq = 0\n",
    "initm = 225\n",
    "resp = 225"
   ]
  },
  {
   "cell_type": "code",
   "execution_count": 66,
   "metadata": {
    "collapsed": false
   },
   "outputs": [
    {
     "data": {
      "text/plain": [
       "263.08000000000004"
      ]
     },
     "execution_count": 66,
     "metadata": {},
     "output_type": "execute_result"
    }
   ],
   "source": [
    "(dequeuerate*deltat-initm-initq-resp)/deltat"
   ]
  },
  {
   "cell_type": "code",
   "execution_count": 62,
   "metadata": {
    "collapsed": false
   },
   "outputs": [
    {
     "data": {
      "text/plain": [
       "634.59409916560412"
      ]
     },
     "execution_count": 62,
     "metadata": {},
     "output_type": "execute_result"
    }
   ],
   "source": [
    "fit(6)"
   ]
  },
  {
   "cell_type": "code",
   "execution_count": null,
   "metadata": {
    "collapsed": true
   },
   "outputs": [],
   "source": []
  }
 ],
 "metadata": {
  "kernelspec": {
   "display_name": "Python 2",
   "language": "python",
   "name": "python2"
  },
  "language_info": {
   "codemirror_mode": {
    "name": "ipython",
    "version": 2
   },
   "file_extension": ".py",
   "mimetype": "text/x-python",
   "name": "python",
   "nbconvert_exporter": "python",
   "pygments_lexer": "ipython2",
   "version": "2.7.11"
  }
 },
 "nbformat": 4,
 "nbformat_minor": 0
}
